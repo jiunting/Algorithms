{
 "cells": [
  {
   "cell_type": "markdown",
   "metadata": {},
   "source": [
    "Given an array of distinct \"positive\" integers candidates and a target integer target, return a list of all unique combinations of candidates where the chosen numbers sum to target. You may return the combinations in any order.\n",
    "\n",
    "The same number may be chosen from candidates an unlimited number of times. Two combinations are unique if the frequency of at least one of the chosen numbers is different.\n",
    "\n",
    "It is guaranteed that the number of unique combinations that sum up to target is less than 150 combinations for the given input.\n",
    "\n",
    "Original question link: https://leetcode.com/problems/combination-sum/\n"
   ]
  },
  {
   "cell_type": "markdown",
   "metadata": {},
   "source": [
    "---\n",
    "Example 1  \n",
    "Input: candidates = [2,3,6,7], target = 7  \n",
    "Output: [[2,2,3],[7]]  \n",
    "Explanation:  \n",
    "2 and 3 are candidates, and 2 + 2 + 3 = 7. Note that 2 can be used multiple times.  \n",
    "7 is a candidate, and 7 = 7.  \n",
    "These are the only two combinations.  \n",
    "\n",
    "---\n",
    "Example 2 \n",
    "Input: candidates = [2,3,5], target = 8  \n",
    "Output: [[2,2,2,2],[2,3,3],[3,5]]  \n"
   ]
  },
  {
   "cell_type": "markdown",
   "metadata": {},
   "source": [
    "## Solution"
   ]
  },
  {
   "cell_type": "markdown",
   "metadata": {},
   "source": [
    "Since the question is to select any element from the candidates and the element can be repeatly selected, regular for-loop is not helpful here (1. because we don't know exactly how many loops we need, and 2. not every element in the candidates is necessarily). \n",
    "\n",
    "Instead, we'll need a technique called backtracking."
   ]
  },
  {
   "cell_type": "markdown",
   "metadata": {},
   "source": [
    "### So how does backtracking work?"
   ]
  },
  {
   "cell_type": "markdown",
   "metadata": {},
   "source": [
    "Imagine for the Example #1 above, you first select the value 2 from the array [2,3,6,7] and the remaining goal would be 7 - 2 which is 5, and the selected values is [2].  \n",
    "The next step is try again to select value from the candidates [2,3,6,7] (assumining 2 again), then the remaining is 5 - 2 which is 3, and the selected values is [2,2].  \n",
    "Try again with selecting 2, the remaining is 3 - 2 = 1, and the selected values is [2,2,2].\n",
    "\n",
    "\n",
    "You can repeat this process over and over again until luckly, the remaining become zero but most of the time, the remaining is not exactly zero, it becomes negative. \n",
    "\n",
    "When the remaining becomes negative, it's time to back-track the accumulated values from the selected value from each previous step. And for the above case when the remaining is 3 then it shouldn't go with selecting 2 again. Obviously, the value selected should be 3, which is [2,2,3].  This isn't a straightforward mindflow for scripting, but we can keep track all the steps by recursion and if one step reaches the goal, then just terminate the path.\n",
    "\n"
   ]
  },
  {
   "cell_type": "markdown",
   "metadata": {},
   "source": [
    "### Base case for recursion\n",
    "\n",
    "1. When sum of the current numbers is target, or the remaining value is zero. For example, current selected numbers are [2,2,3] for target = 7.\n",
    "2. When the sum of the current numbers is too large or the remaining value is negative, no need to search further. \n",
    "\n",
    "Below shows the complete code for the algorithm."
   ]
  },
  {
   "cell_type": "code",
   "execution_count": 18,
   "metadata": {},
   "outputs": [
    {
     "name": "stdout",
     "output_type": "stream",
     "text": [
      "ans: [[20, 20, 29], [20, 23, 26], [20, 24, 25], [20, 49], [22, 22, 25], [22, 23, 24], [22, 47], [23, 23, 23], [23, 46], [24, 45], [26, 43], [28, 41], [29, 40], [32, 37], [33, 36]]\n"
     ]
    }
   ],
   "source": [
    "# candidates = [2,3,6,7]\n",
    "# target = 7\n",
    "candidates = [48,22,49,24,26,47,33,40,37,39,31,46,36,43,45,34,28,20,29,25,41,32,23]\n",
    "target = 69\n",
    "\n",
    "#remain = target - [results] should be zero, break if remain target <0\n",
    "results = [] # save all result lists\n",
    "curr = [] #current appended numbers\n",
    "candidates.sort()\n",
    "def num_select(tar, cand, curr, results):\n",
    "    #print('tar,cand,curr,results=',tar,cand,curr,results)\n",
    "    if tar==0:\n",
    "        results.append(curr)\n",
    "        return\n",
    "    elif tar<0:\n",
    "        return\n",
    "    else:\n",
    "        for i,c in enumerate(cand):\n",
    "            remain = tar - c \n",
    "            tmp_curr = curr.copy()\n",
    "            tmp_curr.append(c) #current array now would have c\n",
    "            num_select(remain,cand[i:],tmp_curr,results)\n",
    "\n",
    "num_select(target, candidates, curr, results)\n",
    "print('ans:',results)"
   ]
  },
  {
   "cell_type": "code",
   "execution_count": null,
   "metadata": {
    "collapsed": true
   },
   "outputs": [],
   "source": []
  }
 ],
 "metadata": {
  "kernelspec": {
   "display_name": "Python 3",
   "language": "python",
   "name": "python3"
  },
  "language_info": {
   "codemirror_mode": {
    "name": "ipython",
    "version": 3
   },
   "file_extension": ".py",
   "mimetype": "text/x-python",
   "name": "python",
   "nbconvert_exporter": "python",
   "pygments_lexer": "ipython3",
   "version": "3.6.3"
  }
 },
 "nbformat": 4,
 "nbformat_minor": 2
}
