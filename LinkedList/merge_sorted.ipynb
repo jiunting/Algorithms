{
 "cells": [
  {
   "cell_type": "markdown",
   "metadata": {},
   "source": [
    "Given two linked list, return the sorted linked list\n",
    "For example:\n",
    "L1 = 0 -> 2 -> 3  \n",
    "L2 = 1 -> 2 -> 4\n",
    "\n",
    "return L12 = 0 -> 1 -> 2 -> 2 -> 3 -> 4 \n",
    "\n",
    "The original question from:https://leetcode.com/problems/merge-two-sorted-lists/"
   ]
  },
  {
   "cell_type": "code",
   "execution_count": 24,
   "metadata": {
    "collapsed": true
   },
   "outputs": [],
   "source": [
    "class ListNode:\n",
    "    def __init__(self, val=0, next=None):\n",
    "        self.val = val\n",
    "        self.next = next\n",
    "        \n",
    "def mergeTwoLists(l1, l2):\n",
    "    dummy = cur = ListNode(0)\n",
    "    print('dummy and cur ID=',hex(id(dummy)),hex(id(cur)))\n",
    "    while l1 and l2:\n",
    "        if l1.val < l2.val:\n",
    "            cur.next = l1\n",
    "            l1 = l1.next # this won't change the l1 of cur.next above\n",
    "        else:\n",
    "            cur.next = l2\n",
    "            l2 = l2.next\n",
    "        cur = cur.next\n",
    "        cur.next = l1 or l2\n",
    "    return dummy.next"
   ]
  },
  {
   "cell_type": "code",
   "execution_count": 47,
   "metadata": {},
   "outputs": [],
   "source": [
    "# make the linked list manually\n",
    "L1 = ListNode(0)\n",
    "L1.next = ListNode(2)\n",
    "L1.next.next = ListNode(5)\n",
    "\n",
    "L2 = ListNode(1)\n",
    "L2.next = ListNode(3)\n",
    "L2.next.next = ListNode(4)\n",
    "\n"
   ]
  },
  {
   "cell_type": "code",
   "execution_count": 48,
   "metadata": {},
   "outputs": [
    {
     "name": "stdout",
     "output_type": "stream",
     "text": [
      "dummy and cur ID= 0x108da5c18 0x108da5c18\n",
      "0\n",
      "1\n",
      "2\n",
      "3\n",
      "4\n",
      "5\n"
     ]
    }
   ],
   "source": [
    "# test the code\n",
    "L12 = mergeTwoLists(L1,L2)\n",
    "\n",
    "while L12:\n",
    "    print(L12.val)\n",
    "    L12 = L12.next"
   ]
  },
  {
   "cell_type": "markdown",
   "metadata": {},
   "source": [
    "------\n",
    "The whole idea of how it works is the MAGIC dummy = cur = ListNode(0) in the mergeTwoLists function.\n",
    "To understand how it works, we need to know the following:\n",
    "1. The dummy and cur have the same address both pointing to ListNode(0) initially.\n",
    "2. During the cur.next = l1 or cur.next = l2 step (depending who is smaller), cur.next also change the address of dummy.next .\n",
    "3. However, l1 = l1.next or l2 = l2.next won't change any address of cur.next and dummy.next.\n",
    "\n",
    "\n",
    "For example if the address of dummy and cur is both 'a' and .next is none, and the addresses for l1 & l2: \n",
    "```python\n",
    "dummy --> 'a'|None \n",
    "cur --> 'a'|None\n",
    "l1 --> 'b'|'c'|'d'|None\n",
    "l2 --> 'e'|'f'|'g'|None\n",
    "```\n",
    "\n",
    "When setting cur.next = l1, which means:\n",
    "```python\n",
    "From\n",
    "cur --> 'a'|None\n",
    "\n",
    "To \n",
    "cur --> 'a'|'b'|'c'|'d'|None\n",
    "\n",
    "And this also applies to dummy\n",
    "dummy --> 'a'|'b'|'c'|'d'|None\n",
    "\n",
    "```\n",
    "\n",
    "When setting l1 = l1.next, which means:\n",
    "```python\n",
    "From\n",
    "l1 --> 'b'|'c'|'d'|None\n",
    "\n",
    "To \n",
    "l1 --> 'c'|'d'|None\n",
    "\n",
    "```\n",
    "\n",
    "Why this won't change back the cur.next = l1 step is very confused to me at the first glance, but when you look at the address, l1=l1.next doesn't change the address of where the 'b' pointing toward. It's just assign l1 to a new address (which is l1.next).\n"
   ]
  },
  {
   "cell_type": "code",
   "execution_count": null,
   "metadata": {},
   "outputs": [],
   "source": []
  },
  {
   "cell_type": "code",
   "execution_count": null,
   "metadata": {
    "collapsed": true
   },
   "outputs": [],
   "source": []
  }
 ],
 "metadata": {
  "kernelspec": {
   "display_name": "Python 3",
   "language": "python",
   "name": "python3"
  },
  "language_info": {
   "codemirror_mode": {
    "name": "ipython",
    "version": 3
   },
   "file_extension": ".py",
   "mimetype": "text/x-python",
   "name": "python",
   "nbconvert_exporter": "python",
   "pygments_lexer": "ipython3",
   "version": "3.6.3"
  }
 },
 "nbformat": 4,
 "nbformat_minor": 2
}
